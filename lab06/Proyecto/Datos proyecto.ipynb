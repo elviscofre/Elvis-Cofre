{
 "cells": [
  {
   "cell_type": "code",
   "execution_count": 1,
   "id": "d95504c2",
   "metadata": {},
   "outputs": [],
   "source": [
    "import pandas as pd"
   ]
  },
  {
   "cell_type": "code",
   "execution_count": 2,
   "id": "ad984594",
   "metadata": {},
   "outputs": [],
   "source": [
    "from matplotlib import pyplot as plt"
   ]
  },
  {
   "cell_type": "code",
   "execution_count": 3,
   "id": "cd75a808",
   "metadata": {},
   "outputs": [],
   "source": [
    "# Subiremos la primer fuente de datos (clean-data.csv) a la memoria "
   ]
  },
  {
   "cell_type": "code",
   "execution_count": 8,
   "id": "449acf7b",
   "metadata": {},
   "outputs": [],
   "source": [
    "data = pd.read_csv(\"clean-data.csv\")"
   ]
  },
  {
   "cell_type": "code",
   "execution_count": 9,
   "id": "7dc97de9",
   "metadata": {},
   "outputs": [
    {
     "data": {
      "text/html": [
       "<div>\n",
       "<style scoped>\n",
       "    .dataframe tbody tr th:only-of-type {\n",
       "        vertical-align: middle;\n",
       "    }\n",
       "\n",
       "    .dataframe tbody tr th {\n",
       "        vertical-align: top;\n",
       "    }\n",
       "\n",
       "    .dataframe thead th {\n",
       "        text-align: right;\n",
       "    }\n",
       "</style>\n",
       "<table border=\"1\" class=\"dataframe\">\n",
       "  <thead>\n",
       "    <tr style=\"text-align: right;\">\n",
       "      <th></th>\n",
       "      <th>Area</th>\n",
       "      <th>Elemento</th>\n",
       "      <th>Producto</th>\n",
       "      <th>Ano</th>\n",
       "      <th>Meses</th>\n",
       "      <th>Unidad</th>\n",
       "      <th>Valor</th>\n",
       "    </tr>\n",
       "  </thead>\n",
       "  <tbody>\n",
       "    <tr>\n",
       "      <th>0</th>\n",
       "      <td>Ecuador</td>\n",
       "      <td>Precio al productor (USD/tonelada)</td>\n",
       "      <td>Maiz</td>\n",
       "      <td>2010</td>\n",
       "      <td>Valor anual</td>\n",
       "      <td>USD</td>\n",
       "      <td>380.0</td>\n",
       "    </tr>\n",
       "    <tr>\n",
       "      <th>1</th>\n",
       "      <td>Ecuador</td>\n",
       "      <td>Precio al productor (USD/tonelada)</td>\n",
       "      <td>Maiz</td>\n",
       "      <td>2011</td>\n",
       "      <td>Valor anual</td>\n",
       "      <td>USD</td>\n",
       "      <td>250.0</td>\n",
       "    </tr>\n",
       "    <tr>\n",
       "      <th>2</th>\n",
       "      <td>Ecuador</td>\n",
       "      <td>Precio al productor (USD/tonelada)</td>\n",
       "      <td>Maiz</td>\n",
       "      <td>2012</td>\n",
       "      <td>Valor anual</td>\n",
       "      <td>USD</td>\n",
       "      <td>315.9</td>\n",
       "    </tr>\n",
       "    <tr>\n",
       "      <th>3</th>\n",
       "      <td>Ecuador</td>\n",
       "      <td>Precio al productor (USD/tonelada)</td>\n",
       "      <td>Maiz</td>\n",
       "      <td>2013</td>\n",
       "      <td>Valor anual</td>\n",
       "      <td>USD</td>\n",
       "      <td>361.0</td>\n",
       "    </tr>\n",
       "    <tr>\n",
       "      <th>4</th>\n",
       "      <td>Ecuador</td>\n",
       "      <td>Precio al productor (USD/tonelada)</td>\n",
       "      <td>Maiz</td>\n",
       "      <td>2014</td>\n",
       "      <td>Valor anual</td>\n",
       "      <td>USD</td>\n",
       "      <td>335.6</td>\n",
       "    </tr>\n",
       "    <tr>\n",
       "      <th>5</th>\n",
       "      <td>Ecuador</td>\n",
       "      <td>Precio al productor (USD/tonelada)</td>\n",
       "      <td>Maiz</td>\n",
       "      <td>2015</td>\n",
       "      <td>Valor anual</td>\n",
       "      <td>USD</td>\n",
       "      <td>357.1</td>\n",
       "    </tr>\n",
       "    <tr>\n",
       "      <th>6</th>\n",
       "      <td>Ecuador</td>\n",
       "      <td>Precio al productor (USD/tonelada)</td>\n",
       "      <td>Maiz</td>\n",
       "      <td>2016</td>\n",
       "      <td>Valor anual</td>\n",
       "      <td>USD</td>\n",
       "      <td>381.6</td>\n",
       "    </tr>\n",
       "    <tr>\n",
       "      <th>7</th>\n",
       "      <td>Ecuador</td>\n",
       "      <td>Precio al productor (USD/tonelada)</td>\n",
       "      <td>Maiz</td>\n",
       "      <td>2017</td>\n",
       "      <td>Valor anual</td>\n",
       "      <td>USD</td>\n",
       "      <td>363.0</td>\n",
       "    </tr>\n",
       "    <tr>\n",
       "      <th>8</th>\n",
       "      <td>Ecuador</td>\n",
       "      <td>Precio al productor (USD/tonelada)</td>\n",
       "      <td>Maiz</td>\n",
       "      <td>2018</td>\n",
       "      <td>Valor anual</td>\n",
       "      <td>USD</td>\n",
       "      <td>316.1</td>\n",
       "    </tr>\n",
       "    <tr>\n",
       "      <th>9</th>\n",
       "      <td>Ecuador</td>\n",
       "      <td>Precio al productor (USD/tonelada)</td>\n",
       "      <td>Maiz</td>\n",
       "      <td>2019</td>\n",
       "      <td>Valor anual</td>\n",
       "      <td>USD</td>\n",
       "      <td>330.1</td>\n",
       "    </tr>\n",
       "    <tr>\n",
       "      <th>10</th>\n",
       "      <td>Ecuador</td>\n",
       "      <td>Precio al productor (USD/tonelada)</td>\n",
       "      <td>Maiz</td>\n",
       "      <td>2020</td>\n",
       "      <td>Valor anual</td>\n",
       "      <td>USD</td>\n",
       "      <td>333.4</td>\n",
       "    </tr>\n",
       "  </tbody>\n",
       "</table>\n",
       "</div>"
      ],
      "text/plain": [
       "       Area                            Elemento Producto   Ano        Meses  \\\n",
       "0   Ecuador  Precio al productor (USD/tonelada)     Maiz  2010  Valor anual   \n",
       "1   Ecuador  Precio al productor (USD/tonelada)     Maiz  2011  Valor anual   \n",
       "2   Ecuador  Precio al productor (USD/tonelada)     Maiz  2012  Valor anual   \n",
       "3   Ecuador  Precio al productor (USD/tonelada)     Maiz  2013  Valor anual   \n",
       "4   Ecuador  Precio al productor (USD/tonelada)     Maiz  2014  Valor anual   \n",
       "5   Ecuador  Precio al productor (USD/tonelada)     Maiz  2015  Valor anual   \n",
       "6   Ecuador  Precio al productor (USD/tonelada)     Maiz  2016  Valor anual   \n",
       "7   Ecuador  Precio al productor (USD/tonelada)     Maiz  2017  Valor anual   \n",
       "8   Ecuador  Precio al productor (USD/tonelada)     Maiz  2018  Valor anual   \n",
       "9   Ecuador  Precio al productor (USD/tonelada)     Maiz  2019  Valor anual   \n",
       "10  Ecuador  Precio al productor (USD/tonelada)     Maiz  2020  Valor anual   \n",
       "\n",
       "   Unidad  Valor  \n",
       "0     USD  380.0  \n",
       "1     USD  250.0  \n",
       "2     USD  315.9  \n",
       "3     USD  361.0  \n",
       "4     USD  335.6  \n",
       "5     USD  357.1  \n",
       "6     USD  381.6  \n",
       "7     USD  363.0  \n",
       "8     USD  316.1  \n",
       "9     USD  330.1  \n",
       "10    USD  333.4  "
      ]
     },
     "execution_count": 9,
     "metadata": {},
     "output_type": "execute_result"
    }
   ],
   "source": [
    "data"
   ]
  },
  {
   "cell_type": "code",
   "execution_count": 10,
   "id": "23cd2367",
   "metadata": {},
   "outputs": [
    {
     "data": {
      "text/plain": [
       "pandas.core.frame.DataFrame"
      ]
     },
     "execution_count": 10,
     "metadata": {},
     "output_type": "execute_result"
    }
   ],
   "source": [
    "type(data)"
   ]
  },
  {
   "cell_type": "code",
   "execution_count": 11,
   "id": "2cf4de7a",
   "metadata": {},
   "outputs": [],
   "source": [
    "# Primeros datos en dataframe de pandas"
   ]
  },
  {
   "cell_type": "code",
   "execution_count": null,
   "id": "bb8c4845",
   "metadata": {},
   "outputs": [],
   "source": []
  }
 ],
 "metadata": {
  "kernelspec": {
   "display_name": "Python 3 (ipykernel)",
   "language": "python",
   "name": "python3"
  },
  "language_info": {
   "codemirror_mode": {
    "name": "ipython",
    "version": 3
   },
   "file_extension": ".py",
   "mimetype": "text/x-python",
   "name": "python",
   "nbconvert_exporter": "python",
   "pygments_lexer": "ipython3",
   "version": "3.9.13"
  }
 },
 "nbformat": 4,
 "nbformat_minor": 5
}

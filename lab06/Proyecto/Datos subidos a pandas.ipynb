{
  "metadata": {
    "language_info": {
      "codemirror_mode": {
        "name": "python",
        "version": 3
      },
      "file_extension": ".py",
      "mimetype": "text/x-python",
      "name": "python",
      "nbconvert_exporter": "python",
      "pygments_lexer": "ipython3",
      "version": "3.8"
    },
    "kernelspec": {
      "name": "python",
      "display_name": "Python (Pyodide)",
      "language": "python"
    }
  },
  "nbformat_minor": 4,
  "nbformat": 4,
  "cells": [
    {
      "cell_type": "code",
      "source": "import pandas as pd",
      "metadata": {
        "trusted": true
      },
      "execution_count": 1,
      "outputs": []
    },
    {
      "cell_type": "code",
      "source": "from matplotlib import pyplot as plt",
      "metadata": {
        "trusted": true
      },
      "execution_count": 2,
      "outputs": []
    },
    {
      "cell_type": "code",
      "source": "# Subiremos la primer fuente de datos (clean-data.csv) a la memoria ",
      "metadata": {
        "trusted": true
      },
      "execution_count": 3,
      "outputs": []
    },
    {
      "cell_type": "code",
      "source": "data = pd.read_csv(\"clean-data.csv\")",
      "metadata": {
        "trusted": true
      },
      "execution_count": 4,
      "outputs": []
    },
    {
      "cell_type": "code",
      "source": "data",
      "metadata": {
        "trusted": true
      },
      "execution_count": 5,
      "outputs": [
        {
          "execution_count": 5,
          "output_type": "execute_result",
          "data": {
            "text/plain": "       Area Producto   Ano Unidad  Valor\n0   Ecuador     Maiz  2010    USD  380.0\n1   Ecuador     Maiz  2011    USD  250.0\n2   Ecuador     Maiz  2012    USD  315.9\n3   Ecuador     Maiz  2013    USD  361.0\n4   Ecuador     Maiz  2014    USD  335.6\n5   Ecuador     Maiz  2015    USD  357.1\n6   Ecuador     Maiz  2016    USD  381.6\n7   Ecuador     Maiz  2017    USD  363.0\n8   Ecuador     Maiz  2018    USD  316.1\n9   Ecuador     Maiz  2019    USD  330.1\n10  Ecuador     Maiz  2020    USD  333.4\n11     Peru     Maiz  2010    USD  300.0\n12     Peru     Maiz  2011    USD  290.0\n13     Peru     Maiz  2012    USD  300.0\n14     Peru     Maiz  2013    USD  255.0\n15     Peru     Maiz  2014    USD  310.0\n16     Peru     Maiz  2015    USD  325.1\n17     Peru     Maiz  2016    USD  310.7\n18     Peru     Maiz  2017    USD  321.0\n19     Peru     Maiz  2018    USD  329.0\n20     Peru     Maiz  2019    USD  301.0\n21     Peru     Maiz  2020    USD  360.0",
            "text/html": "<div>\n<style scoped>\n    .dataframe tbody tr th:only-of-type {\n        vertical-align: middle;\n    }\n\n    .dataframe tbody tr th {\n        vertical-align: top;\n    }\n\n    .dataframe thead th {\n        text-align: right;\n    }\n</style>\n<table border=\"1\" class=\"dataframe\">\n  <thead>\n    <tr style=\"text-align: right;\">\n      <th></th>\n      <th>Area</th>\n      <th>Producto</th>\n      <th>Ano</th>\n      <th>Unidad</th>\n      <th>Valor</th>\n    </tr>\n  </thead>\n  <tbody>\n    <tr>\n      <th>0</th>\n      <td>Ecuador</td>\n      <td>Maiz</td>\n      <td>2010</td>\n      <td>USD</td>\n      <td>380.0</td>\n    </tr>\n    <tr>\n      <th>1</th>\n      <td>Ecuador</td>\n      <td>Maiz</td>\n      <td>2011</td>\n      <td>USD</td>\n      <td>250.0</td>\n    </tr>\n    <tr>\n      <th>2</th>\n      <td>Ecuador</td>\n      <td>Maiz</td>\n      <td>2012</td>\n      <td>USD</td>\n      <td>315.9</td>\n    </tr>\n    <tr>\n      <th>3</th>\n      <td>Ecuador</td>\n      <td>Maiz</td>\n      <td>2013</td>\n      <td>USD</td>\n      <td>361.0</td>\n    </tr>\n    <tr>\n      <th>4</th>\n      <td>Ecuador</td>\n      <td>Maiz</td>\n      <td>2014</td>\n      <td>USD</td>\n      <td>335.6</td>\n    </tr>\n    <tr>\n      <th>5</th>\n      <td>Ecuador</td>\n      <td>Maiz</td>\n      <td>2015</td>\n      <td>USD</td>\n      <td>357.1</td>\n    </tr>\n    <tr>\n      <th>6</th>\n      <td>Ecuador</td>\n      <td>Maiz</td>\n      <td>2016</td>\n      <td>USD</td>\n      <td>381.6</td>\n    </tr>\n    <tr>\n      <th>7</th>\n      <td>Ecuador</td>\n      <td>Maiz</td>\n      <td>2017</td>\n      <td>USD</td>\n      <td>363.0</td>\n    </tr>\n    <tr>\n      <th>8</th>\n      <td>Ecuador</td>\n      <td>Maiz</td>\n      <td>2018</td>\n      <td>USD</td>\n      <td>316.1</td>\n    </tr>\n    <tr>\n      <th>9</th>\n      <td>Ecuador</td>\n      <td>Maiz</td>\n      <td>2019</td>\n      <td>USD</td>\n      <td>330.1</td>\n    </tr>\n    <tr>\n      <th>10</th>\n      <td>Ecuador</td>\n      <td>Maiz</td>\n      <td>2020</td>\n      <td>USD</td>\n      <td>333.4</td>\n    </tr>\n    <tr>\n      <th>11</th>\n      <td>Peru</td>\n      <td>Maiz</td>\n      <td>2010</td>\n      <td>USD</td>\n      <td>300.0</td>\n    </tr>\n    <tr>\n      <th>12</th>\n      <td>Peru</td>\n      <td>Maiz</td>\n      <td>2011</td>\n      <td>USD</td>\n      <td>290.0</td>\n    </tr>\n    <tr>\n      <th>13</th>\n      <td>Peru</td>\n      <td>Maiz</td>\n      <td>2012</td>\n      <td>USD</td>\n      <td>300.0</td>\n    </tr>\n    <tr>\n      <th>14</th>\n      <td>Peru</td>\n      <td>Maiz</td>\n      <td>2013</td>\n      <td>USD</td>\n      <td>255.0</td>\n    </tr>\n    <tr>\n      <th>15</th>\n      <td>Peru</td>\n      <td>Maiz</td>\n      <td>2014</td>\n      <td>USD</td>\n      <td>310.0</td>\n    </tr>\n    <tr>\n      <th>16</th>\n      <td>Peru</td>\n      <td>Maiz</td>\n      <td>2015</td>\n      <td>USD</td>\n      <td>325.1</td>\n    </tr>\n    <tr>\n      <th>17</th>\n      <td>Peru</td>\n      <td>Maiz</td>\n      <td>2016</td>\n      <td>USD</td>\n      <td>310.7</td>\n    </tr>\n    <tr>\n      <th>18</th>\n      <td>Peru</td>\n      <td>Maiz</td>\n      <td>2017</td>\n      <td>USD</td>\n      <td>321.0</td>\n    </tr>\n    <tr>\n      <th>19</th>\n      <td>Peru</td>\n      <td>Maiz</td>\n      <td>2018</td>\n      <td>USD</td>\n      <td>329.0</td>\n    </tr>\n    <tr>\n      <th>20</th>\n      <td>Peru</td>\n      <td>Maiz</td>\n      <td>2019</td>\n      <td>USD</td>\n      <td>301.0</td>\n    </tr>\n    <tr>\n      <th>21</th>\n      <td>Peru</td>\n      <td>Maiz</td>\n      <td>2020</td>\n      <td>USD</td>\n      <td>360.0</td>\n    </tr>\n  </tbody>\n</table>\n</div>"
          },
          "metadata": {}
        }
      ]
    },
    {
      "cell_type": "code",
      "source": "type(data)",
      "metadata": {
        "trusted": true
      },
      "execution_count": 6,
      "outputs": [
        {
          "execution_count": 6,
          "output_type": "execute_result",
          "data": {
            "text/plain": "pandas.core.frame.DataFrame"
          },
          "metadata": {}
        }
      ]
    },
    {
      "cell_type": "code",
      "source": "# Primeros datos en dataframe de pandas",
      "metadata": {
        "trusted": true
      },
      "execution_count": 7,
      "outputs": []
    },
    {
      "cell_type": "code",
      "source": "",
      "metadata": {},
      "execution_count": null,
      "outputs": []
    }
  ]
}